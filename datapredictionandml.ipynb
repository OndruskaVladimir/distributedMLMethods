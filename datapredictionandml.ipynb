{
 "cells": [
  {
   "cell_type": "code",
   "execution_count": 1,
   "metadata": {},
   "outputs": [],
   "source": [
    "import os\n",
    "import sys\n",
    "\n",
    "os.environ['PYSPARK_PYTHON'] = sys.executable\n",
    "os.environ['PYSPARK_DRIVER_PYTHON'] = sys.executable\n",
    "\n",
    "from pyspark.sql import SparkSession\n",
    "from pyspark.ml.feature import VectorAssembler\n",
    "from pyspark.ml.classification import LogisticRegression\n",
    "from pyspark.ml.classification import RandomForestClassifier\n",
    "from pyspark.ml.classification import GBTClassifier\n",
    "from pyspark.ml.classification import DecisionTreeClassifier\n",
    "from pyspark.ml.classification import LinearSVC\n",
    "from pyspark.ml.classification import LinearSVCSummary\n",
    "from pyspark.ml.evaluation import BinaryClassificationEvaluator\n",
    "from pyspark.ml.tuning import CrossValidator, ParamGridBuilder\n",
    "from pyspark.ml import Pipeline\n",
    "import pandas as pd\n",
    "import matplotlib.pyplot as plt\n",
    "import seaborn as sns\n",
    "from imblearn.over_sampling import SMOTE\n",
    "import numpy as np\n",
    "from sklearn.model_selection import train_test_split"
   ]
  },
  {
   "cell_type": "markdown",
   "metadata": {},
   "source": [
    "First thing we need to do is to check, if the dataset is balanced or not. If it is, then we can continue to use spark and MLlib on said dataset. However, if the dataset is inbalanced, we then need to balance it using some method of oversampling or undersampling."
   ]
  },
  {
   "cell_type": "code",
   "execution_count": 2,
   "metadata": {},
   "outputs": [
    {
     "name": "stdout",
     "output_type": "stream",
     "text": [
      "not a fraud: 99.87 % of the dataset\n",
      "fraud: 0.13 % of the dataset\n",
      "0    6354407\n",
      "1       8213\n",
      "Name: isFraud, dtype: int64\n"
     ]
    },
    {
     "data": {
      "text/plain": [
       "<AxesSubplot:xlabel='isFraud', ylabel='count'>"
      ]
     },
     "execution_count": 2,
     "metadata": {},
     "output_type": "execute_result"
    },
    {
     "data": {
      "image/png": "[encoded data removed]",
      "text/plain": [
       "<Figure size 432x288 with 1 Axes>"
      ]
     },
     "metadata": {},
     "output_type": "display_data"
    }
   ],
   "source": [
    "df = pd.read_csv(\"dataset.csv\")\n",
    "\n",
    "print('not a fraud:', round(df['isFraud'].value_counts()[0]/len(df) * 100,2), '% of the dataset')\n",
    "print('fraud:', round(df['isFraud'].value_counts()[1]/len(df) * 100,2), '% of the dataset')\n",
    "print(df['isFraud'].value_counts())\n",
    "sns.set_style('whitegrid')\n",
    "sns.countplot(x='isFraud',data=df)"
   ]
  },
  {
   "cell_type": "markdown",
   "metadata": {},
   "source": [
    "As we can see, the dataset is very inbalanced. This is most probably due to it being synthetic dataset that was made for some specific purpose. We now have to balance it to guarantee that the methods of mllib that we will be using later will yield quality results."
   ]
  },
  {
   "cell_type": "markdown",
   "metadata": {},
   "source": [
    "# SMOTE - Synthetic Minority Over-sampling Technique"
   ]
  },
  {
   "cell_type": "code",
   "execution_count": 3,
   "metadata": {},
   "outputs": [
    {
     "data": {
      "text/plain": [
       "(6362620, 11)"
      ]
     },
     "execution_count": 3,
     "metadata": {},
     "output_type": "execute_result"
    }
   ],
   "source": [
    "df.shape # checking the shape of dataset to see, how many rows and columns we are woking with"
   ]
  },
  {
   "cell_type": "code",
   "execution_count": 4,
   "metadata": {},
   "outputs": [
    {
     "data": {
      "text/html": [
       "<div>\n",
       "<style scoped>\n",
       "    .dataframe tbody tr th:only-of-type {\n",
       "        vertical-align: middle;\n",
       "    }\n",
       "\n",
       "    .dataframe tbody tr th {\n",
       "        vertical-align: top;\n",
       "    }\n",
       "\n",
       "    .dataframe thead th {\n",
       "        text-align: right;\n",
       "    }\n",
       "</style>\n",
       "<table border=\"1\" class=\"dataframe\">\n",
       "  <thead>\n",
       "    <tr style=\"text-align: right;\">\n",
       "      <th></th>\n",
       "      <th>step</th>\n",
       "      <th>type</th>\n",
       "      <th>amount</th>\n",
       "      <th>nameOrig</th>\n",
       "      <th>oldbalanceOrg</th>\n",
       "      <th>newbalanceOrig</th>\n",
       "      <th>nameDest</th>\n",
       "      <th>oldbalanceDest</th>\n",
       "      <th>newbalanceDest</th>\n",
       "      <th>isFraud</th>\n",
       "      <th>isFlaggedFraud</th>\n",
       "    </tr>\n",
       "  </thead>\n",
       "  <tbody>\n",
       "    <tr>\n",
       "      <th>0</th>\n",
       "      <td>1</td>\n",
       "      <td>PAYMENT</td>\n",
       "      <td>9839.64</td>\n",
       "      <td>C1231006815</td>\n",
       "      <td>170136.0</td>\n",
       "      <td>160296.36</td>\n",
       "      <td>M1979787155</td>\n",
       "      <td>0.0</td>\n",
       "      <td>0.0</td>\n",
       "      <td>0</td>\n",
       "      <td>0</td>\n",
       "    </tr>\n",
       "    <tr>\n",
       "      <th>1</th>\n",
       "      <td>1</td>\n",
       "      <td>PAYMENT</td>\n",
       "      <td>1864.28</td>\n",
       "      <td>C1666544295</td>\n",
       "      <td>21249.0</td>\n",
       "      <td>19384.72</td>\n",
       "      <td>M2044282225</td>\n",
       "      <td>0.0</td>\n",
       "      <td>0.0</td>\n",
       "      <td>0</td>\n",
       "      <td>0</td>\n",
       "    </tr>\n",
       "    <tr>\n",
       "      <th>2</th>\n",
       "      <td>1</td>\n",
       "      <td>TRANSFER</td>\n",
       "      <td>181.00</td>\n",
       "      <td>C1305486145</td>\n",
       "      <td>181.0</td>\n",
       "      <td>0.00</td>\n",
       "      <td>C553264065</td>\n",
       "      <td>0.0</td>\n",
       "      <td>0.0</td>\n",
       "      <td>1</td>\n",
       "      <td>0</td>\n",
       "    </tr>\n",
       "    <tr>\n",
       "      <th>3</th>\n",
       "      <td>1</td>\n",
       "      <td>CASH_OUT</td>\n",
       "      <td>181.00</td>\n",
       "      <td>C840083671</td>\n",
       "      <td>181.0</td>\n",
       "      <td>0.00</td>\n",
       "      <td>C38997010</td>\n",
       "      <td>21182.0</td>\n",
       "      <td>0.0</td>\n",
       "      <td>1</td>\n",
       "      <td>0</td>\n",
       "    </tr>\n",
       "    <tr>\n",
       "      <th>4</th>\n",
       "      <td>1</td>\n",
       "      <td>PAYMENT</td>\n",
       "      <td>11668.14</td>\n",
       "      <td>C2048537720</td>\n",
       "      <td>41554.0</td>\n",
       "      <td>29885.86</td>\n",
       "      <td>M1230701703</td>\n",
       "      <td>0.0</td>\n",
       "      <td>0.0</td>\n",
       "      <td>0</td>\n",
       "      <td>0</td>\n",
       "    </tr>\n",
       "  </tbody>\n",
       "</table>\n",
       "</div>"
      ],
      "text/plain": [
       "   step      type    amount     nameOrig  oldbalanceOrg  newbalanceOrig  \\\n",
       "0     1   PAYMENT   9839.64  C1231006815       170136.0       160296.36   \n",
       "1     1   PAYMENT   1864.28  C1666544295        21249.0        19384.72   \n",
       "2     1  TRANSFER    181.00  C1305486145          181.0            0.00   \n",
       "3     1  CASH_OUT    181.00   C840083671          181.0            0.00   \n",
       "4     1   PAYMENT  11668.14  C2048537720        41554.0        29885.86   \n",
       "\n",
       "      nameDest  oldbalanceDest  newbalanceDest  isFraud  isFlaggedFraud  \n",
       "0  M1979787155             0.0             0.0        0               0  \n",
       "1  M2044282225             0.0             0.0        0               0  \n",
       "2   C553264065             0.0             0.0        1               0  \n",
       "3    C38997010         21182.0             0.0        1               0  \n",
       "4  M1230701703             0.0             0.0        0               0  "
      ]
     },
     "execution_count": 4,
     "metadata": {},
     "output_type": "execute_result"
    }
   ],
   "source": [
    "df.head()"
   ]
  },
  {
   "cell_type": "markdown",
   "metadata": {},
   "source": [
    "We can see that there are 11 columns but we wont be working with type, nameOrig and nameDest columns. We will create train/test split on that dataset so we can use the SMOTE method from imbalanced_learning library."
   ]
  },
  {
   "cell_type": "code",
   "execution_count": 5,
   "metadata": {},
   "outputs": [],
   "source": [
    "X_train, X_test, y_train, y_test = train_test_split(df[['step', 'amount', 'oldbalanceOrg', 'newbalanceOrig', 'oldbalanceDest', 'newbalanceDest']], df['isFraud'], test_size= 0.3)"
   ]
  },
  {
   "cell_type": "code",
   "execution_count": 6,
   "metadata": {},
   "outputs": [
    {
     "name": "stdout",
     "output_type": "stream",
     "text": [
      "Training set size after oversampling:  [4448065 4448065]\n",
      "Proportion of non-fake and fake transactions in training after oversampling: \n",
      "[0.5 0.5]\n"
     ]
    },
    {
     "data": {
      "image/png": "[encoded data removed]",
      "text/plain": [
       "<Figure size 432x288 with 1 Axes>"
      ]
     },
     "metadata": {},
     "output_type": "display_data"
    }
   ],
   "source": [
    "oversample = SMOTE()\n",
    "# ravel will convert our data to numpy array\n",
    "X_train_oversampled, y_train_oversampled = oversample.fit_resample(X_train, y_train.ravel())\n",
    "pd.Series(y_train_oversampled).value_counts().plot.bar() # we will show chart to show, that the data were oversampled and balanced into 50/50 ratio.\n",
    "\n",
    "train_unique_label_oversample, train_counts_label_oversample = np.unique(y_train_oversampled, return_counts=True) \n",
    "\n",
    "print('Training set size after oversampling: ', train_counts_label_oversample)\n",
    "print('Proportion of non-fake and fake transactions in training after oversampling: ') # the ratio is now 50/50\n",
    "print(train_counts_label_oversample/ len( y_train_oversampled))"
   ]
  },
  {
   "cell_type": "code",
   "execution_count": 7,
   "metadata": {},
   "outputs": [
    {
     "data": {
      "text/plain": [
       "(8896130, 1)"
      ]
     },
     "execution_count": 7,
     "metadata": {},
     "output_type": "execute_result"
    }
   ],
   "source": [
    "# we will convert the X_train back to dataframe and fill it with oversampled data\n",
    "X_train = pd.DataFrame(X_train_oversampled, columns=X_train.columns)\n",
    "# we will also convert the numpy array of isFraud column into dataframe\n",
    "oversampled_y_train = pd.DataFrame(y_train_oversampled, columns=[\"isFraud\"])\n",
    "oversampled_y_train.shape"
   ]
  },
  {
   "cell_type": "code",
   "execution_count": 8,
   "metadata": {},
   "outputs": [
    {
     "data": {
      "text/html": [
       "<div>\n",
       "<style scoped>\n",
       "    .dataframe tbody tr th:only-of-type {\n",
       "        vertical-align: middle;\n",
       "    }\n",
       "\n",
       "    .dataframe tbody tr th {\n",
       "        vertical-align: top;\n",
       "    }\n",
       "\n",
       "    .dataframe thead th {\n",
       "        text-align: right;\n",
       "    }\n",
       "</style>\n",
       "<table border=\"1\" class=\"dataframe\">\n",
       "  <thead>\n",
       "    <tr style=\"text-align: right;\">\n",
       "      <th></th>\n",
       "      <th>step</th>\n",
       "      <th>amount</th>\n",
       "      <th>oldbalanceOrg</th>\n",
       "      <th>newbalanceOrig</th>\n",
       "      <th>oldbalanceDest</th>\n",
       "      <th>newbalanceDest</th>\n",
       "    </tr>\n",
       "  </thead>\n",
       "  <tbody>\n",
       "    <tr>\n",
       "      <th>0</th>\n",
       "      <td>258</td>\n",
       "      <td>3601.66</td>\n",
       "      <td>32072.00</td>\n",
       "      <td>28470.34</td>\n",
       "      <td>0.00</td>\n",
       "      <td>0.00</td>\n",
       "    </tr>\n",
       "    <tr>\n",
       "      <th>1</th>\n",
       "      <td>9</td>\n",
       "      <td>50920.02</td>\n",
       "      <td>7090452.48</td>\n",
       "      <td>7141372.49</td>\n",
       "      <td>92608.00</td>\n",
       "      <td>41687.98</td>\n",
       "    </tr>\n",
       "    <tr>\n",
       "      <th>2</th>\n",
       "      <td>12</td>\n",
       "      <td>160998.14</td>\n",
       "      <td>1203020.27</td>\n",
       "      <td>1364018.41</td>\n",
       "      <td>4588606.28</td>\n",
       "      <td>4224505.69</td>\n",
       "    </tr>\n",
       "    <tr>\n",
       "      <th>3</th>\n",
       "      <td>161</td>\n",
       "      <td>25230.52</td>\n",
       "      <td>174690.00</td>\n",
       "      <td>149459.48</td>\n",
       "      <td>0.00</td>\n",
       "      <td>0.00</td>\n",
       "    </tr>\n",
       "    <tr>\n",
       "      <th>4</th>\n",
       "      <td>188</td>\n",
       "      <td>15067.94</td>\n",
       "      <td>0.00</td>\n",
       "      <td>0.00</td>\n",
       "      <td>0.00</td>\n",
       "      <td>0.00</td>\n",
       "    </tr>\n",
       "  </tbody>\n",
       "</table>\n",
       "</div>"
      ],
      "text/plain": [
       "   step     amount  oldbalanceOrg  newbalanceOrig  oldbalanceDest  \\\n",
       "0   258    3601.66       32072.00        28470.34            0.00   \n",
       "1     9   50920.02     7090452.48      7141372.49        92608.00   \n",
       "2    12  160998.14     1203020.27      1364018.41      4588606.28   \n",
       "3   161   25230.52      174690.00       149459.48            0.00   \n",
       "4   188   15067.94           0.00            0.00            0.00   \n",
       "\n",
       "   newbalanceDest  \n",
       "0            0.00  \n",
       "1        41687.98  \n",
       "2      4224505.69  \n",
       "3            0.00  \n",
       "4            0.00  "
      ]
     },
     "execution_count": 8,
     "metadata": {},
     "output_type": "execute_result"
    }
   ],
   "source": [
    "X_train.head()"
   ]
  },
  {
   "cell_type": "code",
   "execution_count": 9,
   "metadata": {},
   "outputs": [],
   "source": [
    "# since the isFraud column is missing from X_train, we will concat the the dataframes and create one big oversampled dataframe\n",
    "X_train = pd.concat([X_train, oversampled_y_train], axis=1, join='inner')"
   ]
  },
  {
   "cell_type": "code",
   "execution_count": 10,
   "metadata": {},
   "outputs": [
    {
     "data": {
      "text/html": [
       "<div>\n",
       "<style scoped>\n",
       "    .dataframe tbody tr th:only-of-type {\n",
       "        vertical-align: middle;\n",
       "    }\n",
       "\n",
       "    .dataframe tbody tr th {\n",
       "        vertical-align: top;\n",
       "    }\n",
       "\n",
       "    .dataframe thead th {\n",
       "        text-align: right;\n",
       "    }\n",
       "</style>\n",
       "<table border=\"1\" class=\"dataframe\">\n",
       "  <thead>\n",
       "    <tr style=\"text-align: right;\">\n",
       "      <th></th>\n",
       "      <th>step</th>\n",
       "      <th>amount</th>\n",
       "      <th>oldbalanceOrg</th>\n",
       "      <th>newbalanceOrig</th>\n",
       "      <th>oldbalanceDest</th>\n",
       "      <th>newbalanceDest</th>\n",
       "      <th>isFraud</th>\n",
       "    </tr>\n",
       "  </thead>\n",
       "  <tbody>\n",
       "    <tr>\n",
       "      <th>0</th>\n",
       "      <td>258</td>\n",
       "      <td>3601.66</td>\n",
       "      <td>32072.00</td>\n",
       "      <td>28470.34</td>\n",
       "      <td>0.00</td>\n",
       "      <td>0.00</td>\n",
       "      <td>0</td>\n",
       "    </tr>\n",
       "    <tr>\n",
       "      <th>1</th>\n",
       "      <td>9</td>\n",
       "      <td>50920.02</td>\n",
       "      <td>7090452.48</td>\n",
       "      <td>7141372.49</td>\n",
       "      <td>92608.00</td>\n",
       "      <td>41687.98</td>\n",
       "      <td>0</td>\n",
       "    </tr>\n",
       "    <tr>\n",
       "      <th>2</th>\n",
       "      <td>12</td>\n",
       "      <td>160998.14</td>\n",
       "      <td>1203020.27</td>\n",
       "      <td>1364018.41</td>\n",
       "      <td>4588606.28</td>\n",
       "      <td>4224505.69</td>\n",
       "      <td>0</td>\n",
       "    </tr>\n",
       "    <tr>\n",
       "      <th>3</th>\n",
       "      <td>161</td>\n",
       "      <td>25230.52</td>\n",
       "      <td>174690.00</td>\n",
       "      <td>149459.48</td>\n",
       "      <td>0.00</td>\n",
       "      <td>0.00</td>\n",
       "      <td>0</td>\n",
       "    </tr>\n",
       "    <tr>\n",
       "      <th>4</th>\n",
       "      <td>188</td>\n",
       "      <td>15067.94</td>\n",
       "      <td>0.00</td>\n",
       "      <td>0.00</td>\n",
       "      <td>0.00</td>\n",
       "      <td>0.00</td>\n",
       "      <td>0</td>\n",
       "    </tr>\n",
       "  </tbody>\n",
       "</table>\n",
       "</div>"
      ],
      "text/plain": [
       "   step     amount  oldbalanceOrg  newbalanceOrig  oldbalanceDest  \\\n",
       "0   258    3601.66       32072.00        28470.34            0.00   \n",
       "1     9   50920.02     7090452.48      7141372.49        92608.00   \n",
       "2    12  160998.14     1203020.27      1364018.41      4588606.28   \n",
       "3   161   25230.52      174690.00       149459.48            0.00   \n",
       "4   188   15067.94           0.00            0.00            0.00   \n",
       "\n",
       "   newbalanceDest  isFraud  \n",
       "0            0.00        0  \n",
       "1        41687.98        0  \n",
       "2      4224505.69        0  \n",
       "3            0.00        0  \n",
       "4            0.00        0  "
      ]
     },
     "execution_count": 10,
     "metadata": {},
     "output_type": "execute_result"
    }
   ],
   "source": [
    "# now that all of our data are in the same dataframe, we can save that dataframe into csv \n",
    "# and start applying MLlib methods on our dataset\n",
    "X_train.head()"
   ]
  },
  {
   "cell_type": "code",
   "execution_count": 11,
   "metadata": {},
   "outputs": [],
   "source": [
    "X_train.to_csv(\"oversampled_dataset.csv\")"
   ]
  },
  {
   "cell_type": "markdown",
   "metadata": {},
   "source": [
    "# Data exploration"
   ]
  },
  {
   "cell_type": "code",
   "execution_count": 20,
   "metadata": {},
   "outputs": [],
   "source": [
    "os_df = pd.read_csv(\"oversampled_dataset.csv\")"
   ]
  },
  {
   "cell_type": "code",
   "execution_count": 21,
   "metadata": {},
   "outputs": [
    {
     "name": "stdout",
     "output_type": "stream",
     "text": [
      "<class 'pandas.core.frame.DataFrame'>\n",
      "RangeIndex: 8896130 entries, 0 to 8896129\n",
      "Data columns (total 8 columns):\n",
      " #   Column          Dtype  \n",
      "---  ------          -----  \n",
      " 0   Unnamed: 0      int64  \n",
      " 1   step            int64  \n",
      " 2   amount          float64\n",
      " 3   oldbalanceOrg   float64\n",
      " 4   newbalanceOrig  float64\n",
      " 5   oldbalanceDest  float64\n",
      " 6   newbalanceDest  float64\n",
      " 7   isFraud         int64  \n",
      "dtypes: float64(5), int64(3)\n",
      "memory usage: 543.0 MB\n"
     ]
    },
    {
     "data": {
      "text/html": [
       "<div>\n",
       "<style scoped>\n",
       "    .dataframe tbody tr th:only-of-type {\n",
       "        vertical-align: middle;\n",
       "    }\n",
       "\n",
       "    .dataframe tbody tr th {\n",
       "        vertical-align: top;\n",
       "    }\n",
       "\n",
       "    .dataframe thead th {\n",
       "        text-align: right;\n",
       "    }\n",
       "</style>\n",
       "<table border=\"1\" class=\"dataframe\">\n",
       "  <thead>\n",
       "    <tr style=\"text-align: right;\">\n",
       "      <th></th>\n",
       "      <th>step</th>\n",
       "      <th>amount</th>\n",
       "      <th>oldbalanceOrg</th>\n",
       "      <th>newbalanceOrig</th>\n",
       "      <th>oldbalanceDest</th>\n",
       "      <th>newbalanceDest</th>\n",
       "      <th>isFraud</th>\n",
       "    </tr>\n",
       "  </thead>\n",
       "  <tbody>\n",
       "    <tr>\n",
       "      <th>0</th>\n",
       "      <td>258</td>\n",
       "      <td>3.601660e+03</td>\n",
       "      <td>3.207200e+04</td>\n",
       "      <td>28470.34</td>\n",
       "      <td>0.000000e+00</td>\n",
       "      <td>0.000000e+00</td>\n",
       "      <td>0</td>\n",
       "    </tr>\n",
       "    <tr>\n",
       "      <th>1</th>\n",
       "      <td>9</td>\n",
       "      <td>5.092002e+04</td>\n",
       "      <td>7.090452e+06</td>\n",
       "      <td>7141372.49</td>\n",
       "      <td>9.260800e+04</td>\n",
       "      <td>4.168798e+04</td>\n",
       "      <td>0</td>\n",
       "    </tr>\n",
       "    <tr>\n",
       "      <th>2</th>\n",
       "      <td>12</td>\n",
       "      <td>1.609981e+05</td>\n",
       "      <td>1.203020e+06</td>\n",
       "      <td>1364018.41</td>\n",
       "      <td>4.588606e+06</td>\n",
       "      <td>4.224506e+06</td>\n",
       "      <td>0</td>\n",
       "    </tr>\n",
       "    <tr>\n",
       "      <th>3</th>\n",
       "      <td>161</td>\n",
       "      <td>2.523052e+04</td>\n",
       "      <td>1.746900e+05</td>\n",
       "      <td>149459.48</td>\n",
       "      <td>0.000000e+00</td>\n",
       "      <td>0.000000e+00</td>\n",
       "      <td>0</td>\n",
       "    </tr>\n",
       "    <tr>\n",
       "      <th>4</th>\n",
       "      <td>188</td>\n",
       "      <td>1.506794e+04</td>\n",
       "      <td>0.000000e+00</td>\n",
       "      <td>0.00</td>\n",
       "      <td>0.000000e+00</td>\n",
       "      <td>0.000000e+00</td>\n",
       "      <td>0</td>\n",
       "    </tr>\n",
       "    <tr>\n",
       "      <th>...</th>\n",
       "      <td>...</td>\n",
       "      <td>...</td>\n",
       "      <td>...</td>\n",
       "      <td>...</td>\n",
       "      <td>...</td>\n",
       "      <td>...</td>\n",
       "      <td>...</td>\n",
       "    </tr>\n",
       "    <tr>\n",
       "      <th>8896125</th>\n",
       "      <td>29</td>\n",
       "      <td>7.480687e+04</td>\n",
       "      <td>7.480687e+04</td>\n",
       "      <td>0.00</td>\n",
       "      <td>0.000000e+00</td>\n",
       "      <td>0.000000e+00</td>\n",
       "      <td>1</td>\n",
       "    </tr>\n",
       "    <tr>\n",
       "      <th>8896126</th>\n",
       "      <td>37</td>\n",
       "      <td>1.164390e+06</td>\n",
       "      <td>1.164390e+06</td>\n",
       "      <td>0.00</td>\n",
       "      <td>0.000000e+00</td>\n",
       "      <td>0.000000e+00</td>\n",
       "      <td>1</td>\n",
       "    </tr>\n",
       "    <tr>\n",
       "      <th>8896127</th>\n",
       "      <td>112</td>\n",
       "      <td>7.248264e+05</td>\n",
       "      <td>7.248264e+05</td>\n",
       "      <td>0.00</td>\n",
       "      <td>0.000000e+00</td>\n",
       "      <td>0.000000e+00</td>\n",
       "      <td>1</td>\n",
       "    </tr>\n",
       "    <tr>\n",
       "      <th>8896128</th>\n",
       "      <td>263</td>\n",
       "      <td>7.538943e+04</td>\n",
       "      <td>7.538943e+04</td>\n",
       "      <td>0.00</td>\n",
       "      <td>0.000000e+00</td>\n",
       "      <td>7.538943e+04</td>\n",
       "      <td>1</td>\n",
       "    </tr>\n",
       "    <tr>\n",
       "      <th>8896129</th>\n",
       "      <td>192</td>\n",
       "      <td>8.019819e+05</td>\n",
       "      <td>8.019819e+05</td>\n",
       "      <td>0.00</td>\n",
       "      <td>3.113569e+05</td>\n",
       "      <td>1.113339e+06</td>\n",
       "      <td>1</td>\n",
       "    </tr>\n",
       "  </tbody>\n",
       "</table>\n",
       "<p>8896130 rows × 7 columns</p>\n",
       "</div>"
      ],
      "text/plain": [
       "         step        amount  oldbalanceOrg  newbalanceOrig  oldbalanceDest  \\\n",
       "0         258  3.601660e+03   3.207200e+04        28470.34    0.000000e+00   \n",
       "1           9  5.092002e+04   7.090452e+06      7141372.49    9.260800e+04   \n",
       "2          12  1.609981e+05   1.203020e+06      1364018.41    4.588606e+06   \n",
       "3         161  2.523052e+04   1.746900e+05       149459.48    0.000000e+00   \n",
       "4         188  1.506794e+04   0.000000e+00            0.00    0.000000e+00   \n",
       "...       ...           ...            ...             ...             ...   \n",
       "8896125    29  7.480687e+04   7.480687e+04            0.00    0.000000e+00   \n",
       "8896126    37  1.164390e+06   1.164390e+06            0.00    0.000000e+00   \n",
       "8896127   112  7.248264e+05   7.248264e+05            0.00    0.000000e+00   \n",
       "8896128   263  7.538943e+04   7.538943e+04            0.00    0.000000e+00   \n",
       "8896129   192  8.019819e+05   8.019819e+05            0.00    3.113569e+05   \n",
       "\n",
       "         newbalanceDest  isFraud  \n",
       "0          0.000000e+00        0  \n",
       "1          4.168798e+04        0  \n",
       "2          4.224506e+06        0  \n",
       "3          0.000000e+00        0  \n",
       "4          0.000000e+00        0  \n",
       "...                 ...      ...  \n",
       "8896125    0.000000e+00        1  \n",
       "8896126    0.000000e+00        1  \n",
       "8896127    0.000000e+00        1  \n",
       "8896128    7.538943e+04        1  \n",
       "8896129    1.113339e+06        1  \n",
       "\n",
       "[8896130 rows x 7 columns]"
      ]
     },
     "execution_count": 21,
     "metadata": {},
     "output_type": "execute_result"
    }
   ],
   "source": [
    "os_df.info()\n",
    "os_df = os_df.drop(\"Unnamed: 0\", axis='columns')\n",
    "os_df"
   ]
  },
  {
   "cell_type": "code",
   "execution_count": 22,
   "metadata": {},
   "outputs": [
    {
     "data": {
      "text/html": [
       "<div>\n",
       "<style scoped>\n",
       "    .dataframe tbody tr th:only-of-type {\n",
       "        vertical-align: middle;\n",
       "    }\n",
       "\n",
       "    .dataframe tbody tr th {\n",
       "        vertical-align: top;\n",
       "    }\n",
       "\n",
       "    .dataframe thead th {\n",
       "        text-align: right;\n",
       "    }\n",
       "</style>\n",
       "<table border=\"1\" class=\"dataframe\">\n",
       "  <thead>\n",
       "    <tr style=\"text-align: right;\">\n",
       "      <th></th>\n",
       "      <th>step</th>\n",
       "      <th>amount</th>\n",
       "      <th>oldbalanceOrg</th>\n",
       "      <th>newbalanceOrig</th>\n",
       "      <th>oldbalanceDest</th>\n",
       "      <th>newbalanceDest</th>\n",
       "      <th>isFraud</th>\n",
       "    </tr>\n",
       "  </thead>\n",
       "  <tbody>\n",
       "    <tr>\n",
       "      <th>count</th>\n",
       "      <td>8.896130e+06</td>\n",
       "      <td>8.896130e+06</td>\n",
       "      <td>8.896130e+06</td>\n",
       "      <td>8.896130e+06</td>\n",
       "      <td>8.896130e+06</td>\n",
       "      <td>8.896130e+06</td>\n",
       "      <td>8896130.0</td>\n",
       "    </tr>\n",
       "    <tr>\n",
       "      <th>mean</th>\n",
       "      <td>3.066437e+02</td>\n",
       "      <td>8.222201e+05</td>\n",
       "      <td>1.234837e+06</td>\n",
       "      <td>5.172056e+05</td>\n",
       "      <td>8.118170e+05</td>\n",
       "      <td>1.241195e+06</td>\n",
       "      <td>0.5</td>\n",
       "    </tr>\n",
       "    <tr>\n",
       "      <th>std</th>\n",
       "      <td>1.728851e+02</td>\n",
       "      <td>1.865167e+06</td>\n",
       "      <td>3.186521e+06</td>\n",
       "      <td>2.434178e+06</td>\n",
       "      <td>2.809204e+06</td>\n",
       "      <td>3.295083e+06</td>\n",
       "      <td>0.5</td>\n",
       "    </tr>\n",
       "    <tr>\n",
       "      <th>min</th>\n",
       "      <td>1.000000e+00</td>\n",
       "      <td>0.000000e+00</td>\n",
       "      <td>0.000000e+00</td>\n",
       "      <td>0.000000e+00</td>\n",
       "      <td>0.000000e+00</td>\n",
       "      <td>0.000000e+00</td>\n",
       "      <td>0.0</td>\n",
       "    </tr>\n",
       "    <tr>\n",
       "      <th>25%</th>\n",
       "      <td>1.820000e+02</td>\n",
       "      <td>3.723845e+04</td>\n",
       "      <td>1.069900e+04</td>\n",
       "      <td>0.000000e+00</td>\n",
       "      <td>0.000000e+00</td>\n",
       "      <td>0.000000e+00</td>\n",
       "      <td>0.0</td>\n",
       "    </tr>\n",
       "    <tr>\n",
       "      <th>50%</th>\n",
       "      <td>2.990000e+02</td>\n",
       "      <td>1.721126e+05</td>\n",
       "      <td>1.181400e+05</td>\n",
       "      <td>0.000000e+00</td>\n",
       "      <td>0.000000e+00</td>\n",
       "      <td>1.230820e+05</td>\n",
       "      <td>0.5</td>\n",
       "    </tr>\n",
       "    <tr>\n",
       "      <th>75%</th>\n",
       "      <td>4.050000e+02</td>\n",
       "      <td>5.420142e+05</td>\n",
       "      <td>8.045981e+05</td>\n",
       "      <td>0.000000e+00</td>\n",
       "      <td>5.110645e+05</td>\n",
       "      <td>1.083800e+06</td>\n",
       "      <td>1.0</td>\n",
       "    </tr>\n",
       "    <tr>\n",
       "      <th>max</th>\n",
       "      <td>7.430000e+02</td>\n",
       "      <td>9.244552e+07</td>\n",
       "      <td>5.039905e+07</td>\n",
       "      <td>4.367380e+07</td>\n",
       "      <td>3.560159e+08</td>\n",
       "      <td>3.561793e+08</td>\n",
       "      <td>1.0</td>\n",
       "    </tr>\n",
       "  </tbody>\n",
       "</table>\n",
       "</div>"
      ],
      "text/plain": [
       "               step        amount  oldbalanceOrg  newbalanceOrig  \\\n",
       "count  8.896130e+06  8.896130e+06   8.896130e+06    8.896130e+06   \n",
       "mean   3.066437e+02  8.222201e+05   1.234837e+06    5.172056e+05   \n",
       "std    1.728851e+02  1.865167e+06   3.186521e+06    2.434178e+06   \n",
       "min    1.000000e+00  0.000000e+00   0.000000e+00    0.000000e+00   \n",
       "25%    1.820000e+02  3.723845e+04   1.069900e+04    0.000000e+00   \n",
       "50%    2.990000e+02  1.721126e+05   1.181400e+05    0.000000e+00   \n",
       "75%    4.050000e+02  5.420142e+05   8.045981e+05    0.000000e+00   \n",
       "max    7.430000e+02  9.244552e+07   5.039905e+07    4.367380e+07   \n",
       "\n",
       "       oldbalanceDest  newbalanceDest    isFraud  \n",
       "count    8.896130e+06    8.896130e+06  8896130.0  \n",
       "mean     8.118170e+05    1.241195e+06        0.5  \n",
       "std      2.809204e+06    3.295083e+06        0.5  \n",
       "min      0.000000e+00    0.000000e+00        0.0  \n",
       "25%      0.000000e+00    0.000000e+00        0.0  \n",
       "50%      0.000000e+00    1.230820e+05        0.5  \n",
       "75%      5.110645e+05    1.083800e+06        1.0  \n",
       "max      3.560159e+08    3.561793e+08        1.0  "
      ]
     },
     "execution_count": 22,
     "metadata": {},
     "output_type": "execute_result"
    }
   ],
   "source": [
    "os_df.describe()"
   ]
  },
  {
   "cell_type": "code",
   "execution_count": 18,
   "metadata": {},
   "outputs": [],
   "source": [
    "def missing_data(data):\n",
    "    total = data.isnull().sum()\n",
    "    percent = (data.isnull().sum()/data.isnull().count()*100)\n",
    "    tt = pd.concat([total, percent], axis=1, keys=['Total', 'Percent'])\n",
    "    types = []\n",
    "    for col in data.columns:\n",
    "        dtype = str(data[col].dtype)\n",
    "        types.append(dtype)\n",
    "    tt['Types'] = types\n",
    "    return(np.transpose(tt))"
   ]
  },
  {
   "cell_type": "code",
   "execution_count": 19,
   "metadata": {},
   "outputs": [
    {
     "data": {
      "text/html": [
       "<div>\n",
       "<style scoped>\n",
       "    .dataframe tbody tr th:only-of-type {\n",
       "        vertical-align: middle;\n",
       "    }\n",
       "\n",
       "    .dataframe tbody tr th {\n",
       "        vertical-align: top;\n",
       "    }\n",
       "\n",
       "    .dataframe thead th {\n",
       "        text-align: right;\n",
       "    }\n",
       "</style>\n",
       "<table border=\"1\" class=\"dataframe\">\n",
       "  <thead>\n",
       "    <tr style=\"text-align: right;\">\n",
       "      <th></th>\n",
       "      <th>Unnamed: 0</th>\n",
       "      <th>step</th>\n",
       "      <th>amount</th>\n",
       "      <th>oldbalanceOrg</th>\n",
       "      <th>newbalanceOrig</th>\n",
       "      <th>oldbalanceDest</th>\n",
       "      <th>newbalanceDest</th>\n",
       "      <th>isFraud</th>\n",
       "    </tr>\n",
       "  </thead>\n",
       "  <tbody>\n",
       "    <tr>\n",
       "      <th>Total</th>\n",
       "      <td>0</td>\n",
       "      <td>0</td>\n",
       "      <td>0</td>\n",
       "      <td>0</td>\n",
       "      <td>0</td>\n",
       "      <td>0</td>\n",
       "      <td>0</td>\n",
       "      <td>0</td>\n",
       "    </tr>\n",
       "    <tr>\n",
       "      <th>Percent</th>\n",
       "      <td>0.0</td>\n",
       "      <td>0.0</td>\n",
       "      <td>0.0</td>\n",
       "      <td>0.0</td>\n",
       "      <td>0.0</td>\n",
       "      <td>0.0</td>\n",
       "      <td>0.0</td>\n",
       "      <td>0.0</td>\n",
       "    </tr>\n",
       "    <tr>\n",
       "      <th>Types</th>\n",
       "      <td>int64</td>\n",
       "      <td>int64</td>\n",
       "      <td>float64</td>\n",
       "      <td>float64</td>\n",
       "      <td>float64</td>\n",
       "      <td>float64</td>\n",
       "      <td>float64</td>\n",
       "      <td>int64</td>\n",
       "    </tr>\n",
       "  </tbody>\n",
       "</table>\n",
       "</div>"
      ],
      "text/plain": [
       "        Unnamed: 0   step   amount oldbalanceOrg newbalanceOrig  \\\n",
       "Total            0      0        0             0              0   \n",
       "Percent        0.0    0.0      0.0           0.0            0.0   \n",
       "Types        int64  int64  float64       float64        float64   \n",
       "\n",
       "        oldbalanceDest newbalanceDest isFraud  \n",
       "Total                0              0       0  \n",
       "Percent            0.0            0.0     0.0  \n",
       "Types          float64        float64   int64  "
      ]
     },
     "execution_count": 19,
     "metadata": {},
     "output_type": "execute_result"
    }
   ],
   "source": [
    "missing_data(os_df)"
   ]
  },
  {
   "cell_type": "code",
   "execution_count": 24,
   "metadata": {},
   "outputs": [
    {
     "data": {
      "image/png": "[encoded data removed]",
      "text/plain": [
       "<Figure size 864x432 with 2 Axes>"
      ]
     },
     "metadata": {},
     "output_type": "display_data"
    }
   ],
   "source": [
    "fig, (ax1, ax2) = plt.subplots(ncols=2, figsize=(12,6))\n",
    "s = sns.boxplot(ax = ax1, x=\"isFraud\", y=\"step\", hue=\"isFraud\",data=os_df, palette=\"PRGn\",showfliers=True)\n",
    "s = sns.boxplot(ax = ax2, x=\"isFraud\", y=\"step\", hue=\"isFraud\",data=os_df, palette=\"PRGn\",showfliers=False)\n",
    "plt.show()"
   ]
  },
  {
   "cell_type": "markdown",
   "metadata": {},
   "source": [
    "# Using MLlib pyspark methods on balanced dataset\n",
    "    - we will create spark session on our local system using all cores of CPU\n",
    "    - then we will read the csv\n",
    "    - we will remove unnecessary columns\n",
    "    - create assemblerand evaluator\n",
    "    - then we will run multiple methods of Spark MLlib\n",
    "    - we will time the methods to see which one is the fastest(also for comparison reasons)\n",
    "    - after we ran them, we will visualize the results and compare some of the methods"
   ]
  },
  {
   "cell_type": "code",
   "execution_count": 12,
   "metadata": {},
   "outputs": [
    {
     "name": "stdout",
     "output_type": "stream",
     "text": [
      "+---+----+---------+-------------+--------------+--------------+--------------+-------+\n",
      "|_c0|step|   amount|oldbalanceOrg|newbalanceOrig|oldbalanceDest|newbalanceDest|isFraud|\n",
      "+---+----+---------+-------------+--------------+--------------+--------------+-------+\n",
      "|  0| 280|487262.34|          0.0|           0.0|    2451858.97|    2939121.31|      0|\n",
      "|  1| 357|211860.42|     41131.51|           0.0|     567304.68|      779165.1|      0|\n",
      "|  2| 285| 96251.13|   4428519.02|    4524770.15|    1636873.96|    1540622.83|      0|\n",
      "|  3|  15|  8699.94|     45558.81|      36858.87|           0.0|           0.0|      0|\n",
      "|  4| 235| 10232.96|     217272.0|     227504.96|     530861.66|      520628.7|      0|\n",
      "+---+----+---------+-------------+--------------+--------------+--------------+-------+\n",
      "only showing top 5 rows\n",
      "\n",
      "Shape of dataframe:  (8896054, 8)\n"
     ]
    }
   ],
   "source": [
    "# session on local machine using all cores\n",
    "spark = SparkSession.builder.master(\"local[*]\")\\\n",
    "        .config(\"spark.executor.memory\", \"16g\")\\\n",
    "        .config(\"spark.driver.memory\", \"16g\")\\\n",
    "        .config(\"spark.memory.offHeap.enabled\", True)\\\n",
    "        .config(\"spark.memory.offHeap.size\",\"7g\")\\\n",
    "        .appName(\"ModelCompare\")\\\n",
    "        .getOrCreate()\n",
    "df = spark.read.option(\"inferSchema\",\"true\").option(\"header\",\"true\").csv(\"oversampled_dataset.csv\") # read dataset(oversampled)\n",
    "\n",
    "# check the data inside of dataframe and check the dimensions\n",
    "df.show(n=5)\n",
    "print(\"Shape of dataframe: \", (df.count(), len(df.columns)))"
   ]
  },
  {
   "cell_type": "code",
   "execution_count": 13,
   "metadata": {},
   "outputs": [],
   "source": [
    "# remove the unnecesarry columns if there are any(they might not be present in oversampled dataset)\n",
    "col_to_drop = ['_c0', 'type', 'nameOrig','nameDest']\n",
    "df = df.drop(*col_to_drop)\n",
    "trainDf, testDf = df.randomSplit([0.7,0.3],40)"
   ]
  },
  {
   "cell_type": "code",
   "execution_count": 14,
   "metadata": {},
   "outputs": [],
   "source": [
    "# Vector assembler is used to combine numerical columns into 1 vector column\n",
    "assembler = VectorAssembler(inputCols=[\"step\", \"amount\", \"oldbalanceOrg\",\"newbalanceOrig\",\"oldbalanceDest\",\"newbalanceDest\"], outputCol='features')\n",
    "# vectorized testing and training dataframes for cross validation\n",
    "df_tr = VectorAssembler.transform(assembler, trainDf)\n",
    "df_vector_test = VectorAssembler.transform(assembler, testDf)\n",
    "df_tr = df_tr.select(['features', 'isFraud'])\n",
    "# We are using binary evaluator because our label can have only values between 1 and 0\n",
    "evaluator = BinaryClassificationEvaluator(labelCol=\"isFraud\")"
   ]
  },
  {
   "cell_type": "markdown",
   "metadata": {},
   "source": [
    "# Usage of ML methods on our dataset"
   ]
  },
  {
   "cell_type": "markdown",
   "metadata": {},
   "source": [
    "## Logistic Regression"
   ]
  },
  {
   "cell_type": "code",
   "execution_count": 15,
   "metadata": {},
   "outputs": [
    {
     "name": "stdout",
     "output_type": "stream",
     "text": [
      "LogisticRegression Test Area Under ROC 0.8881780555805892\n",
      "CPU times: total: 46.9 ms\n",
      "Wall time: 24.8 s\n"
     ]
    }
   ],
   "source": [
    "%%time\n",
    "lrmodel = LogisticRegression(featuresCol = 'features', labelCol = 'isFraud', maxIter=10)\n",
    "lr_pipe = Pipeline(stages=[assembler,lrmodel])\n",
    "lr_trained = lr_pipe.fit(trainDf)\n",
    "lr_predictions = lr_trained.transform(testDf)\n",
    "print('LogisticRegression Test Area Under ROC', evaluator.evaluate(lr_predictions))"
   ]
  },
  {
   "cell_type": "markdown",
   "metadata": {},
   "source": [
    "### Logistic Regression - cross validation "
   ]
  },
  {
   "cell_type": "code",
   "execution_count": 16,
   "metadata": {},
   "outputs": [
    {
     "name": "stdout",
     "output_type": "stream",
     "text": [
      "CPU times: total: 6.38 s\n",
      "Wall time: 11min 15s\n"
     ]
    }
   ],
   "source": [
    "%%time\n",
    "paramGrid = ParamGridBuilder()\\\n",
    ".addGrid(lrmodel.regParam, [0.1, 0.01])\\\n",
    ".addGrid(lrmodel.fitIntercept, [False, True])\\\n",
    ".addGrid(lrmodel.elasticNetParam, [0.0, 0.5, 1.0])\\\n",
    ".build()\n",
    "\n",
    "crossval = CrossValidator()\\\n",
    "        .setEstimator(lrmodel)\\\n",
    "        .setEvaluator(BinaryClassificationEvaluator().setLabelCol(\"isFraud\"))\\\n",
    "        .setEstimatorParamMaps(paramGrid)\\\n",
    "        .setNumFolds(10)\\\n",
    "        .setParallelism(4)\n",
    "cvModel = crossval.fit(df_tr)"
   ]
  },
  {
   "cell_type": "code",
   "execution_count": 17,
   "metadata": {},
   "outputs": [
    {
     "name": "stdout",
     "output_type": "stream",
     "text": [
      "Logistic Regression cross validation Accuracy:  89.9 %\n"
     ]
    }
   ],
   "source": [
    "lr_cvPredictionDf = cvModel.transform(df_vector_test)\n",
    "cvAccuracy = evaluator.evaluate(lr_cvPredictionDf)\n",
    "print(\"Logistic Regression cross validation Accuracy: \", str(round(cvAccuracy * 100, 2)), \"%\")"
   ]
  },
  {
   "cell_type": "markdown",
   "metadata": {},
   "source": [
    "## Random Forest"
   ]
  },
  {
   "cell_type": "code",
   "execution_count": 18,
   "metadata": {},
   "outputs": [
    {
     "name": "stdout",
     "output_type": "stream",
     "text": [
      "RandomForest Test Area Under ROC 0.9935030329095966\n",
      "CPU times: total: 15.6 ms\n",
      "Wall time: 35.5 s\n"
     ]
    }
   ],
   "source": [
    "%%time\n",
    "rfmodel = RandomForestClassifier(featuresCol = 'features', labelCol = 'isFraud', impurity='gini', maxDepth=5, maxBins=32)\n",
    "rf_pipe = Pipeline(stages=[assembler,rfmodel])\n",
    "rf_trained = rf_pipe.fit(trainDf)\n",
    "rf_predictions = rf_trained.transform(testDf)\n",
    "print('RandomForest Test Area Under ROC', evaluator.evaluate(rf_predictions))"
   ]
  },
  {
   "cell_type": "markdown",
   "metadata": {},
   "source": [
    "### Random Forest - cross validation"
   ]
  },
  {
   "cell_type": "code",
   "execution_count": 19,
   "metadata": {},
   "outputs": [
    {
     "name": "stdout",
     "output_type": "stream",
     "text": [
      "CPU times: total: 10.2 s\n",
      "Wall time: 48min 35s\n"
     ]
    }
   ],
   "source": [
    "%%time\n",
    "paramGrid = ParamGridBuilder()\\\n",
    "  .addGrid(RandomForestClassifier.maxBins, [25, 28, 32])\\\n",
    "  .addGrid(RandomForestClassifier.maxDepth, [5, 8, 10])\\\n",
    "  .addGrid(RandomForestClassifier.impurity, [\"entropy\", \"gini\"])\\\n",
    "  .build()\n",
    "\n",
    "crossval = CrossValidator()\\\n",
    "        .setEstimator(rfmodel)\\\n",
    "        .setEvaluator(BinaryClassificationEvaluator().setLabelCol(\"isFraud\"))\\\n",
    "        .setEstimatorParamMaps(paramGrid)\\\n",
    "        .setNumFolds(10)\\\n",
    "        .setParallelism(4)\n",
    "cvModel = crossval.fit(df_tr)"
   ]
  },
  {
   "cell_type": "code",
   "execution_count": 20,
   "metadata": {},
   "outputs": [
    {
     "name": "stdout",
     "output_type": "stream",
     "text": [
      "Random Forest cross validation Accuracy:  99.35 %\n"
     ]
    }
   ],
   "source": [
    "rf_cvPredictionDf = cvModel.transform(df_vector_test)\n",
    "cvAccuracy = evaluator.evaluate(rf_cvPredictionDf)\n",
    "print(\"Random Forest cross validation Accuracy: \", str(round(cvAccuracy * 100, 2)), \"%\")"
   ]
  },
  {
   "cell_type": "markdown",
   "metadata": {},
   "source": [
    "## Gradient boosted trees"
   ]
  },
  {
   "cell_type": "code",
   "execution_count": 87,
   "metadata": {},
   "outputs": [
    {
     "name": "stdout",
     "output_type": "stream",
     "text": [
      "GBT Test Area Under ROC 0.9968090735844247\n",
      "CPU times: total: 15.6 ms\n",
      "Wall time: 52.4 s\n"
     ]
    }
   ],
   "source": [
    "%%time\n",
    "gbtmodel = GBTClassifier(featuresCol=\"features\", labelCol=\"isFraud\", maxIter=10)\n",
    "gbt_pipe = Pipeline(stages=[assembler,gbtmodel])\n",
    "gbt_trained = gbt_pipe.fit(trainDf)\n",
    "gbt_predictions = gbt_trained.transform(testDf)\n",
    "print('GBT Test Area Under ROC', evaluator.evaluate(gbt_predictions))"
   ]
  },
  {
   "cell_type": "markdown",
   "metadata": {},
   "source": [
    "### Gradient Boosted Trees - cross validation "
   ]
  },
  {
   "cell_type": "code",
   "execution_count": 22,
   "metadata": {},
   "outputs": [
    {
     "name": "stdout",
     "output_type": "stream",
     "text": [
      "CPU times: total: 20.4 s\n",
      "Wall time: 3h 5min 20s\n"
     ]
    }
   ],
   "source": [
    "%%time\n",
    "paramGrid = ParamGridBuilder()\\\n",
    "             .addGrid(GBTClassifier.maxDepth, [2, 5, 10])\\\n",
    "             .addGrid(GBTClassifier.maxBins, [10, 20, 40])\\\n",
    "             .addGrid(GBTClassifier.maxIter, [5, 10, 20])\\\n",
    "             .build()\n",
    "\n",
    "crossval = CrossValidator()\\\n",
    "        .setEstimator(gbtmodel)\\\n",
    "        .setEvaluator(BinaryClassificationEvaluator().setLabelCol(\"isFraud\"))\\\n",
    "        .setEstimatorParamMaps(paramGrid)\\\n",
    "        .setNumFolds(10)\\\n",
    "        .setParallelism(4)\n",
    "cvModel = crossval.fit(df_tr)"
   ]
  },
  {
   "cell_type": "code",
   "execution_count": 23,
   "metadata": {},
   "outputs": [
    {
     "name": "stdout",
     "output_type": "stream",
     "text": [
      "Gradient Boosted Tree cross validation Accuracy:  99.68 %\n"
     ]
    }
   ],
   "source": [
    "dt_cvPredictionDf = cvModel.transform(df_vector_test)\n",
    "cvAccuracy = evaluator.evaluate(dt_cvPredictionDf)\n",
    "print(\"Gradient Boosted Tree cross validation Accuracy: \", str(round(cvAccuracy * 100, 2)), \"%\")"
   ]
  },
  {
   "cell_type": "markdown",
   "metadata": {},
   "source": [
    "## Decision Tree "
   ]
  },
  {
   "cell_type": "code",
   "execution_count": 191,
   "metadata": {},
   "outputs": [
    {
     "name": "stdout",
     "output_type": "stream",
     "text": [
      "Decision Tree Test Area Under ROC 0.9771242334800959\n",
      "CPU times: total: 31.2 ms\n",
      "Wall time: 25.9 s\n"
     ]
    }
   ],
   "source": [
    "%%time\n",
    "dtmodel = DecisionTreeClassifier(featuresCol=\"features\", labelCol=\"isFraud\", maxDepth = 5, impurity = 'gini')\n",
    "dt_pipe = Pipeline(stages=[assembler,dtmodel])\n",
    "dt_trained = dt_pipe.fit(trainDf)\n",
    "dt_predictions = dt_trained.transform(testDf)\n",
    "print('Decision Tree Test Area Under ROC', evaluator.evaluate(dt_predictions))"
   ]
  },
  {
   "cell_type": "markdown",
   "metadata": {},
   "source": [
    "### Decision Tree - cross validation"
   ]
  },
  {
   "cell_type": "code",
   "execution_count": 192,
   "metadata": {},
   "outputs": [
    {
     "name": "stdout",
     "output_type": "stream",
     "text": [
      "CPU times: total: 25 s\n",
      "Wall time: 43min 1s\n"
     ]
    }
   ],
   "source": [
    "%%time\n",
    "paramGrid = ParamGridBuilder()\\\n",
    "             .addGrid(DecisionTreeClassifier.maxDepth, [2, 5, 10, 20, 30])\\\n",
    "             .addGrid(DecisionTreeClassifier.maxBins, [10, 20, 40, 80, 100])\\\n",
    "             .addGrid(DecisionTreeClassifier.impurity, [\"entropy\", \"gini\"])\\\n",
    "             .build()\n",
    "\n",
    "crossval = CrossValidator()\\\n",
    "        .setEstimator(dtmodel)\\\n",
    "        .setEvaluator(BinaryClassificationEvaluator().setLabelCol(\"isFraud\"))\\\n",
    "        .setEstimatorParamMaps(paramGrid)\\\n",
    "        .setNumFolds(10)\\\n",
    "        .setParallelism(4)\n",
    "cvModel = crossval.fit(df_tr)"
   ]
  },
  {
   "cell_type": "code",
   "execution_count": 193,
   "metadata": {},
   "outputs": [
    {
     "name": "stdout",
     "output_type": "stream",
     "text": [
      "Decision Tree cross validation Accuracy:  97.71 %\n"
     ]
    }
   ],
   "source": [
    "dt_cvPredictionDf = cvModel.transform(df_vector_test)\n",
    "cvAccuracy = evaluator.evaluate(dt_cvPredictionDf)\n",
    "print(\"Decision Tree cross validation Accuracy: \", str(round(cvAccuracy * 100, 2)), \"%\")"
   ]
  },
  {
   "cell_type": "markdown",
   "metadata": {},
   "source": [
    "## Linear support vector classifier "
   ]
  },
  {
   "cell_type": "code",
   "execution_count": 194,
   "metadata": {},
   "outputs": [
    {
     "name": "stdout",
     "output_type": "stream",
     "text": [
      "SVC Test Area Under ROC 0.9776356851889816\n",
      "CPU times: total: 0 ns\n",
      "Wall time: 1min 4s\n"
     ]
    }
   ],
   "source": [
    "%%time\n",
    "svcmodel = LinearSVC(featuresCol=\"features\", labelCol=\"isFraud\")\n",
    "svc_pipe = Pipeline(stages=[assembler,svcmodel])\n",
    "svc_trained = svc_pipe.fit(trainDf)\n",
    "svc_predictions = svc_trained.transform(testDf)\n",
    "print('SVC Test Area Under ROC', evaluator.evaluate(svc_predictions))"
   ]
  },
  {
   "cell_type": "markdown",
   "metadata": {},
   "source": [
    "### Linear support vector classifier - cross validation "
   ]
  },
  {
   "cell_type": "code",
   "execution_count": 28,
   "metadata": {},
   "outputs": [
    {
     "name": "stdout",
     "output_type": "stream",
     "text": [
      "CPU times: total: 2.66 s\n",
      "Wall time: 40min 41s\n"
     ]
    }
   ],
   "source": [
    "%%time\n",
    "paramGrid = ParamGridBuilder()\\\n",
    "             .addGrid(LinearSVC.maxIter, [10, 20])\\\n",
    "             .addGrid(LinearSVC.regParam,[0.001, 0.01, 1])\\\n",
    "             .build()\n",
    "\n",
    "crossval = CrossValidator()\\\n",
    "        .setEstimator(svcmodel)\\\n",
    "        .setEvaluator(BinaryClassificationEvaluator().setLabelCol(\"isFraud\"))\\\n",
    "        .setEstimatorParamMaps(paramGrid)\\\n",
    "        .setNumFolds(10)\\\n",
    "        .setParallelism(4)\n",
    "cvModel = crossval.fit(df_tr)"
   ]
  },
  {
   "cell_type": "code",
   "execution_count": 29,
   "metadata": {},
   "outputs": [
    {
     "name": "stdout",
     "output_type": "stream",
     "text": [
      "Support vector classifier cross validation Accuracy:  98.18 %\n"
     ]
    }
   ],
   "source": [
    "svc_cvPredictionDf = cvModel.transform(df_vector_test)\n",
    "cvAccuracy = evaluator.evaluate(svc_cvPredictionDf)\n",
    "print(\"Support vector classifier cross validation Accuracy: \", str(round(cvAccuracy * 100, 2)), \"%\")"
   ]
  },
  {
   "cell_type": "markdown",
   "metadata": {},
   "source": [
    "# Visualization of used ML methods"
   ]
  },
  {
   "cell_type": "markdown",
   "metadata": {},
   "source": [
    "## Visualization of Logistic Regression metrics"
   ]
  },
  {
   "cell_type": "code",
   "execution_count": 150,
   "metadata": {},
   "outputs": [
    {
     "name": "stdout",
     "output_type": "stream",
     "text": [
      "[0.8340624258520225, 0.8028104706633628]\n"
     ]
    },
    {
     "name": "stderr",
     "output_type": "stream",
     "text": [
      "C:\\Users\\ondru\\.virtualenvs\\spark_test-ZVXdXnIM\\lib\\site-packages\\pyspark\\sql\\context.py:125: FutureWarning: Deprecated in 3.0.0. Use SparkSession.builder.getOrCreate() instead.\n",
      "  warnings.warn(\n",
      "C:\\Users\\ondru\\.virtualenvs\\spark_test-ZVXdXnIM\\lib\\site-packages\\pyspark\\sql\\context.py:125: FutureWarning: Deprecated in 3.0.0. Use SparkSession.builder.getOrCreate() instead.\n",
      "  warnings.warn(\n"
     ]
    }
   ],
   "source": [
    "lr_summary = lr_trained.stages[-1].summary\n",
    "lr_roc = lr_summary.roc.toPandas()\n",
    "lr_pr = lr_summary.pr.toPandas()\n",
    "print(lr_summary.fMeasureByLabel())"
   ]
  },
  {
   "cell_type": "code",
   "execution_count": 48,
   "metadata": {},
   "outputs": [
    {
     "data": {
      "image/png": "[encoded data removed]",
      "text/plain": [
       "<Figure size 432x288 with 1 Axes>"
      ]
     },
     "metadata": {},
     "output_type": "display_data"
    },
    {
     "name": "stdout",
     "output_type": "stream",
     "text": [
      "LogisticRegression Training set areaUnderROC: 0.8879679916716612\n"
     ]
    }
   ],
   "source": [
    "plt.plot(lr_roc['FPR'],lr_roc['TPR'],color=\"black\", label = \"LR\")\n",
    "plt.ylabel('False Positive Rate')\n",
    "plt.xlabel('True Positive Rate')\n",
    "plt.title('ROC Curve')\n",
    "plt.legend()\n",
    "plt.show()\n",
    "print('LogisticRegression Training set areaUnderROC: ' + str(lr_summary.areaUnderROC))"
   ]
  },
  {
   "cell_type": "code",
   "execution_count": 153,
   "metadata": {},
   "outputs": [
    {
     "data": {
      "image/png": "[encoded data removed]",
      "text/plain": [
       "<Figure size 432x288 with 1 Axes>"
      ]
     },
     "metadata": {},
     "output_type": "display_data"
    }
   ],
   "source": [
    "plt.plot(lr_pr['recall'],lr_pr['precision'],color=\"black\", label = \"LR\")\n",
    "plt.title('Precision and Recall')\n",
    "plt.ylabel('Precision')\n",
    "plt.xlabel('Recall')\n",
    "plt.legend()\n",
    "plt.show()"
   ]
  },
  {
   "cell_type": "markdown",
   "metadata": {},
   "source": [
    "## Visualization of Random Forest Metrics"
   ]
  },
  {
   "cell_type": "code",
   "execution_count": 197,
   "metadata": {},
   "outputs": [
    {
     "name": "stdout",
     "output_type": "stream",
     "text": [
      "[0.9565160104379571, 0.9565840284027921]\n"
     ]
    },
    {
     "name": "stderr",
     "output_type": "stream",
     "text": [
      "C:\\Users\\ondru\\.virtualenvs\\spark_test-ZVXdXnIM\\lib\\site-packages\\pyspark\\sql\\context.py:125: FutureWarning: Deprecated in 3.0.0. Use SparkSession.builder.getOrCreate() instead.\n",
      "  warnings.warn(\n",
      "C:\\Users\\ondru\\.virtualenvs\\spark_test-ZVXdXnIM\\lib\\site-packages\\pyspark\\sql\\context.py:125: FutureWarning: Deprecated in 3.0.0. Use SparkSession.builder.getOrCreate() instead.\n",
      "  warnings.warn(\n"
     ]
    }
   ],
   "source": [
    "rf_summary = rf_trained.stages[-1].summary\n",
    "rf_roc = rf_summary.roc.toPandas()\n",
    "rf_pr = rf_summary.pr.toPandas()\n",
    "print(rf_summary.fMeasureByLabel())"
   ]
  },
  {
   "cell_type": "code",
   "execution_count": 54,
   "metadata": {},
   "outputs": [
    {
     "data": {
      "image/png": "[encoded data removed]",
      "text/plain": [
       "<Figure size 432x288 with 1 Axes>"
      ]
     },
     "metadata": {},
     "output_type": "display_data"
    },
    {
     "name": "stdout",
     "output_type": "stream",
     "text": [
      "RandomForest Training set areaUnderROC: 0.9934628341091417\n"
     ]
    }
   ],
   "source": [
    "plt.plot(rf_roc['FPR'],rf_roc['TPR'],color=\"blue\", label = \"RF\")\n",
    "plt.ylabel('False Positive Rate')\n",
    "plt.xlabel('True Positive Rate')\n",
    "plt.title('ROC Curve')\n",
    "plt.legend()\n",
    "plt.show()\n",
    "print('RandomForest Training set areaUnderROC: ' + str(rf_summary.areaUnderROC))"
   ]
  },
  {
   "cell_type": "code",
   "execution_count": 154,
   "metadata": {},
   "outputs": [
    {
     "data": {
      "image/png": "[encoded data removed]",
      "text/plain": [
       "<Figure size 432x288 with 1 Axes>"
      ]
     },
     "metadata": {},
     "output_type": "display_data"
    }
   ],
   "source": [
    "plt.plot(rf_pr['recall'],rf_pr['precision'],color=\"blue\", label = \"RF\")\n",
    "plt.title('Precision and Recall')\n",
    "plt.ylabel('Precision')\n",
    "plt.xlabel('Recall')\n",
    "plt.legend()\n",
    "plt.show()"
   ]
  },
  {
   "cell_type": "code",
   "execution_count": 34,
   "metadata": {},
   "outputs": [
    {
     "name": "stdout",
     "output_type": "stream",
     "text": [
      "LogisticRegression Test Area Under ROC 0.8881782660812017\n",
      "RandomForest Test Area Under ROC 0.9935030329095966\n",
      "GBT Test Area Under ROC 0.9968090735844247\n",
      "DecisionTree Test Area Under ROC 0.9887492310585476\n",
      "SVC Test Area Under ROC 0.9818316570070365\n"
     ]
    }
   ],
   "source": [
    "print('LogisticRegression Test Area Under ROC', evaluator.evaluate(lr_predictions))\n",
    "print('RandomForest Test Area Under ROC', evaluator.evaluate(rf_predictions))\n",
    "print('GBT Test Area Under ROC', evaluator.evaluate(gbt_predictions))\n",
    "print('DecisionTree Test Area Under ROC', evaluator.evaluate(dt_predictions))\n",
    "print('SVC Test Area Under ROC', evaluator.evaluate(svc_predictions))"
   ]
  },
  {
   "cell_type": "markdown",
   "metadata": {},
   "source": [
    "# sklearn Machine Learning Methods for comparisson with MLlib Apache Spark"
   ]
  },
  {
   "cell_type": "code",
   "execution_count": 42,
   "metadata": {},
   "outputs": [],
   "source": [
    "from sklearn.svm import LinearSVC\n",
    "from sklearn.ensemble import RandomForestClassifier\n",
    "from sklearn.datasets import make_classification\n",
    "from sklearn.model_selection import cross_val_score\n",
    "from sklearn.model_selection import RepeatedStratifiedKFold\n",
    "from sklearn.ensemble import RandomForestClassifier\n",
    "from sklearn.ensemble import GradientBoostingClassifier\n",
    "from sklearn.metrics import plot_confusion_matrix\n",
    "from sklearn.linear_model import LogisticRegression\n",
    "from sklearn.metrics import PrecisionRecallDisplay\n",
    "from sklearn.tree import DecisionTreeClassifier\n",
    "from statistics import mean\n",
    "from sklearn.metrics import confusion_matrix\n",
    "from sklearn.metrics import accuracy_score, confusion_matrix, classification_report"
   ]
  },
  {
   "cell_type": "code",
   "execution_count": 30,
   "metadata": {},
   "outputs": [],
   "source": [
    "df = pd.read_csv(\"oversampled_dataset.csv\")"
   ]
  },
  {
   "cell_type": "code",
   "execution_count": 31,
   "metadata": {},
   "outputs": [],
   "source": [
    "X_train, X_test, y_train, y_test = train_test_split(df[['step', 'amount', 'oldbalanceOrg', 'newbalanceOrig', 'oldbalanceDest', 'newbalanceDest']], df['isFraud'], test_size= 0.3)"
   ]
  },
  {
   "cell_type": "code",
   "execution_count": 34,
   "metadata": {},
   "outputs": [],
   "source": [
    "rf_clf=RandomForestClassifier(n_estimators = 5)"
   ]
  },
  {
   "cell_type": "markdown",
   "metadata": {},
   "source": [
    "## sklearn Random Forest"
   ]
  },
  {
   "cell_type": "code",
   "execution_count": 35,
   "metadata": {},
   "outputs": [
    {
     "name": "stdout",
     "output_type": "stream",
     "text": [
      "CPU times: total: 1min 21s\n",
      "Wall time: 1min 22s\n"
     ]
    }
   ],
   "source": [
    "%%time\n",
    "rf_clf.fit(X_train,y_train)\n",
    "y_pred=rf_clf.predict(X_test)"
   ]
  },
  {
   "cell_type": "code",
   "execution_count": 40,
   "metadata": {},
   "outputs": [
    {
     "name": "stdout",
     "output_type": "stream",
     "text": [
      "Accuracy: 0.999 (0.000)\n"
     ]
    }
   ],
   "source": [
    "cv = RepeatedStratifiedKFold(n_splits=10, n_repeats=3, random_state=1)\n",
    "n_scores = cross_val_score(rf_clf, X_train, y_train, scoring='accuracy', cv=cv, n_jobs=-1, error_score='raise')\n",
    "print('Accuracy: %.3f (%.3f)' % (mean(n_scores), np.std(n_scores)))"
   ]
  },
  {
   "cell_type": "code",
   "execution_count": 41,
   "metadata": {},
   "outputs": [
    {
     "name": "stdout",
     "output_type": "stream",
     "text": [
      "              precision    recall  f1-score   support\n",
      "\n",
      "           0       1.00      1.00      1.00   1335521\n",
      "           1       1.00      1.00      1.00   1333307\n",
      "\n",
      "    accuracy                           1.00   2668828\n",
      "   macro avg       1.00      1.00      1.00   2668828\n",
      "weighted avg       1.00      1.00      1.00   2668828\n",
      "\n"
     ]
    }
   ],
   "source": [
    "print(classification_report(y_test, y_pred))"
   ]
  },
  {
   "cell_type": "markdown",
   "metadata": {},
   "source": [
    "## sklearn SVC"
   ]
  },
  {
   "cell_type": "code",
   "execution_count": 50,
   "metadata": {},
   "outputs": [
    {
     "name": "stderr",
     "output_type": "stream",
     "text": [
      "C:\\Users\\ondru\\.virtualenvs\\spark_test-ZVXdXnIM\\lib\\site-packages\\sklearn\\svm\\_base.py:1206: ConvergenceWarning: Liblinear failed to converge, increase the number of iterations.\n",
      "  warnings.warn(\n"
     ]
    },
    {
     "name": "stdout",
     "output_type": "stream",
     "text": [
      "0.8384518515211671\n",
      "CPU times: total: 1min 32s\n",
      "Wall time: 1min 32s\n"
     ]
    }
   ],
   "source": [
    "%%time\n",
    "svc = LinearSVC(max_iter=100, dual=True)\n",
    "svc.fit(X_train, y_train)\n",
    "ypred = svc.predict(X_test)\n",
    "score = svc.score(X_train, y_train)\n",
    "print(score)"
   ]
  },
  {
   "cell_type": "code",
   "execution_count": 49,
   "metadata": {},
   "outputs": [
    {
     "name": "stdout",
     "output_type": "stream",
     "text": [
      "[[1177287  156617]\n",
      " [ 104752 1230170]]\n",
      "              precision    recall  f1-score   support\n",
      "\n",
      "           0       0.92      0.88      0.90   1333904\n",
      "           1       0.89      0.92      0.90   1334922\n",
      "\n",
      "    accuracy                           0.90   2668826\n",
      "   macro avg       0.90      0.90      0.90   2668826\n",
      "weighted avg       0.90      0.90      0.90   2668826\n",
      "\n"
     ]
    }
   ],
   "source": [
    "cm = confusion_matrix(y_test, ypred)\n",
    "print(cm)\n",
    "\n",
    "cr = classification_report(y_test, ypred)\n",
    "print(cr)"
   ]
  },
  {
   "cell_type": "markdown",
   "metadata": {},
   "source": [
    "## sklearn GBT classifier"
   ]
  },
  {
   "cell_type": "code",
   "execution_count": 41,
   "metadata": {},
   "outputs": [
    {
     "name": "stdout",
     "output_type": "stream",
     "text": [
      "CPU times: total: 1min 15s\n",
      "Wall time: 1min 15s\n"
     ]
    }
   ],
   "source": [
    "%%time\n",
    "gbt = GradientBoostingClassifier(n_estimators=5, learning_rate=0.1, max_depth=3, random_state=0).fit(X_train, y_train)\n",
    "gbt.score(X_test, y_test)\n",
    "gbt_ypred = gbt.predict(X_test)"
   ]
  },
  {
   "cell_type": "code",
   "execution_count": 157,
   "metadata": {},
   "outputs": [
    {
     "name": "stdout",
     "output_type": "stream",
     "text": [
      "              precision    recall  f1-score   support\n",
      "\n",
      "           0       0.99      0.97      0.98   1335521\n",
      "           1       0.98      0.99      0.98   1333307\n",
      "\n",
      "    accuracy                           0.98   2668828\n",
      "   macro avg       0.98      0.98      0.98   2668828\n",
      "weighted avg       0.98      0.98      0.98   2668828\n",
      "\n"
     ]
    }
   ],
   "source": [
    "cr = classification_report(y_test, gbt_ypred)\n",
    "print(cr)"
   ]
  },
  {
   "cell_type": "code",
   "execution_count": 158,
   "metadata": {},
   "outputs": [
    {
     "name": "stdout",
     "output_type": "stream",
     "text": [
      "[[1301640   33881]\n",
      " [   7946 1325361]]\n"
     ]
    }
   ],
   "source": [
    "cm = confusion_matrix(y_test, gbt_ypred)\n",
    "print(cm)"
   ]
  },
  {
   "cell_type": "code",
   "execution_count": 161,
   "metadata": {},
   "outputs": [
    {
     "data": {
      "text/plain": [
       "<sklearn.metrics._plot.confusion_matrix.ConfusionMatrixDisplay at 0x1dc35344f70>"
      ]
     },
     "execution_count": 161,
     "metadata": {},
     "output_type": "execute_result"
    },
    {
     "data": {
      "image/png": "[encoded data removed]",
      "text/plain": [
       "<Figure size 432x288 with 2 Axes>"
      ]
     },
     "metadata": {},
     "output_type": "display_data"
    }
   ],
   "source": [
    "plot_confusion_matrix(gbt, X_test, y_test)  "
   ]
  },
  {
   "cell_type": "code",
   "execution_count": 163,
   "metadata": {},
   "outputs": [
    {
     "data": {
      "text/plain": [
       "Text(0.5, 1.0, '2-class Precision-Recall curve')"
      ]
     },
     "execution_count": 163,
     "metadata": {},
     "output_type": "execute_result"
    },
    {
     "data": {
      "image/png": "[encoded data removed]",
      "text/plain": [
       "<Figure size 432x288 with 1 Axes>"
      ]
     },
     "metadata": {},
     "output_type": "display_data"
    }
   ],
   "source": [
    "display = PrecisionRecallDisplay.from_estimator(gbt, X_test, y_test, name=\"Gradient boosted tree\")\n",
    "display.ax_.set_title(\"2-class Precision-Recall curve \")"
   ]
  },
  {
   "cell_type": "markdown",
   "metadata": {},
   "source": [
    "## sklearn Decision Tree Classifier"
   ]
  },
  {
   "cell_type": "code",
   "execution_count": 38,
   "metadata": {},
   "outputs": [
    {
     "name": "stdout",
     "output_type": "stream",
     "text": [
      "CPU times: total: 28.1 s\n",
      "Wall time: 28.1 s\n"
     ]
    }
   ],
   "source": [
    "%%time\n",
    "dt_clf = DecisionTreeClassifier(criterion='gini', max_depth=5, random_state=0)\n",
    "dt_clf.fit(X_train, y_train)\n",
    "dt_clf.score(X_test, y_test)\n",
    "dt_ypred = dt_clf.predict(X_test)"
   ]
  },
  {
   "cell_type": "code",
   "execution_count": 170,
   "metadata": {},
   "outputs": [
    {
     "name": "stdout",
     "output_type": "stream",
     "text": [
      "              precision    recall  f1-score   support\n",
      "\n",
      "           0       1.00      0.94      0.97   1335521\n",
      "           1       0.94      1.00      0.97   1333307\n",
      "\n",
      "    accuracy                           0.97   2668828\n",
      "   macro avg       0.97      0.97      0.97   2668828\n",
      "weighted avg       0.97      0.97      0.97   2668828\n",
      "\n"
     ]
    }
   ],
   "source": [
    "cr = classification_report(y_test, dt_ypred)\n",
    "print(cr)"
   ]
  },
  {
   "cell_type": "code",
   "execution_count": 171,
   "metadata": {},
   "outputs": [
    {
     "name": "stdout",
     "output_type": "stream",
     "text": [
      "[[1256051   79470]\n",
      " [   4827 1328480]]\n"
     ]
    },
    {
     "name": "stderr",
     "output_type": "stream",
     "text": [
      "C:\\Users\\ondru\\.virtualenvs\\spark_test-ZVXdXnIM\\lib\\site-packages\\sklearn\\utils\\deprecation.py:87: FutureWarning: Function plot_confusion_matrix is deprecated; Function `plot_confusion_matrix` is deprecated in 1.0 and will be removed in 1.2. Use one of the class methods: ConfusionMatrixDisplay.from_predictions or ConfusionMatrixDisplay.from_estimator.\n",
      "  warnings.warn(msg, category=FutureWarning)\n"
     ]
    },
    {
     "data": {
      "text/plain": [
       "<sklearn.metrics._plot.confusion_matrix.ConfusionMatrixDisplay at 0x1dc355aec10>"
      ]
     },
     "execution_count": 171,
     "metadata": {},
     "output_type": "execute_result"
    },
    {
     "data": {
      "image/png": "[encoded data removed]",
      "text/plain": [
       "<Figure size 432x288 with 2 Axes>"
      ]
     },
     "metadata": {},
     "output_type": "display_data"
    }
   ],
   "source": [
    "cm = confusion_matrix(y_test, dt_ypred)\n",
    "print(cm)\n",
    "plot_confusion_matrix(dt_clf, X_test, y_test)"
   ]
  },
  {
   "cell_type": "code",
   "execution_count": 173,
   "metadata": {},
   "outputs": [
    {
     "data": {
      "text/plain": [
       "Text(0.5, 1.0, '2-class Precision-Recall curve')"
      ]
     },
     "execution_count": 173,
     "metadata": {},
     "output_type": "execute_result"
    },
    {
     "data": {
      "image/png": "[encoded data removed]",
      "text/plain": [
       "<Figure size 432x288 with 1 Axes>"
      ]
     },
     "metadata": {},
     "output_type": "display_data"
    }
   ],
   "source": [
    "display = PrecisionRecallDisplay.from_estimator(dt_clf, X_test, y_test, name=\"Decision Tree\")\n",
    "display.ax_.set_title(\"2-class Precision-Recall curve\")"
   ]
  },
  {
   "cell_type": "markdown",
   "metadata": {},
   "source": [
    "## sklearn Logistic Regression"
   ]
  },
  {
   "cell_type": "code",
   "execution_count": 45,
   "metadata": {},
   "outputs": [
    {
     "name": "stderr",
     "output_type": "stream",
     "text": [
      "C:\\Users\\ondru\\.virtualenvs\\spark_test-ZVXdXnIM\\lib\\site-packages\\sklearn\\linear_model\\_logistic.py:814: ConvergenceWarning: lbfgs failed to converge (status=1):\n",
      "STOP: TOTAL NO. of ITERATIONS REACHED LIMIT.\n",
      "\n",
      "Increase the number of iterations (max_iter) or scale the data as shown in:\n",
      "    https://scikit-learn.org/stable/modules/preprocessing.html\n",
      "Please also refer to the documentation for alternative solver options:\n",
      "    https://scikit-learn.org/stable/modules/linear_model.html#logistic-regression\n",
      "  n_iter_i = _check_optimize_result(\n"
     ]
    },
    {
     "name": "stdout",
     "output_type": "stream",
     "text": [
      "CPU times: total: 26.6 s\n",
      "Wall time: 10.5 s\n"
     ]
    }
   ],
   "source": [
    "%%time\n",
    "lr_clf = LogisticRegression(random_state=0, max_iter = 10).fit(X_train, y_train)\n",
    "score = lr_clf.score(X_test, y_test)\n",
    "lr_ypred = lr_clf.predict(X_test)"
   ]
  },
  {
   "cell_type": "code",
   "execution_count": 46,
   "metadata": {},
   "outputs": [
    {
     "name": "stdout",
     "output_type": "stream",
     "text": [
      "0.9172849784886687\n"
     ]
    }
   ],
   "source": [
    "print(score)"
   ]
  }
 ],
 "metadata": {
  "kernelspec": {
   "display_name": "Python 3 (ipykernel)",
   "language": "python",
   "name": "python3"
  },
  "language_info": {
   "codemirror_mode": {
    "name": "ipython",
    "version": 3
   },
   "file_extension": ".py",
   "mimetype": "text/x-python",
   "name": "python",
   "nbconvert_exporter": "python",
   "pygments_lexer": "ipython3",
   "version": "3.9.4"
  }
 },
 "nbformat": 4,
 "nbformat_minor": 4
}
